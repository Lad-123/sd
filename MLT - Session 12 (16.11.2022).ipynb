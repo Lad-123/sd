{
 "cells": [
  {
   "cell_type": "markdown",
   "id": "37de747f",
   "metadata": {},
   "source": [
    "## Overfitting and resolving it"
   ]
  },
  {
   "cell_type": "markdown",
   "id": "3ec7d71c",
   "metadata": {},
   "source": [
    "**Overfitting** - It is a phenomenon where training performance is good but testing performance is not good."
   ]
  },
  {
   "cell_type": "markdown",
   "id": "8d8e4604",
   "metadata": {},
   "source": [
    "### Sourcing the data"
   ]
  },
  {
   "cell_type": "code",
   "execution_count": 1,
   "id": "a9f3c15b",
   "metadata": {},
   "outputs": [],
   "source": [
    "import numpy as np\n",
    "import pandas as pd\n",
    "import matplotlib.pyplot as plt"
   ]
  },
  {
   "cell_type": "code",
   "execution_count": 2,
   "id": "e709ea8d",
   "metadata": {},
   "outputs": [
    {
     "data": {
      "text/html": [
       "<div>\n",
       "<style scoped>\n",
       "    .dataframe tbody tr th:only-of-type {\n",
       "        vertical-align: middle;\n",
       "    }\n",
       "\n",
       "    .dataframe tbody tr th {\n",
       "        vertical-align: top;\n",
       "    }\n",
       "\n",
       "    .dataframe thead th {\n",
       "        text-align: right;\n",
       "    }\n",
       "</style>\n",
       "<table border=\"1\" class=\"dataframe\">\n",
       "  <thead>\n",
       "    <tr style=\"text-align: right;\">\n",
       "      <th></th>\n",
       "      <th>Unnamed: 0</th>\n",
       "      <th>TV</th>\n",
       "      <th>Radio</th>\n",
       "      <th>Newspaper</th>\n",
       "      <th>Sales</th>\n",
       "    </tr>\n",
       "  </thead>\n",
       "  <tbody>\n",
       "    <tr>\n",
       "      <th>0</th>\n",
       "      <td>1</td>\n",
       "      <td>230.1</td>\n",
       "      <td>37.8</td>\n",
       "      <td>69.2</td>\n",
       "      <td>22.1</td>\n",
       "    </tr>\n",
       "    <tr>\n",
       "      <th>1</th>\n",
       "      <td>2</td>\n",
       "      <td>44.5</td>\n",
       "      <td>39.3</td>\n",
       "      <td>45.1</td>\n",
       "      <td>10.4</td>\n",
       "    </tr>\n",
       "    <tr>\n",
       "      <th>2</th>\n",
       "      <td>3</td>\n",
       "      <td>17.2</td>\n",
       "      <td>45.9</td>\n",
       "      <td>69.3</td>\n",
       "      <td>9.3</td>\n",
       "    </tr>\n",
       "    <tr>\n",
       "      <th>3</th>\n",
       "      <td>4</td>\n",
       "      <td>151.5</td>\n",
       "      <td>41.3</td>\n",
       "      <td>58.5</td>\n",
       "      <td>18.5</td>\n",
       "    </tr>\n",
       "    <tr>\n",
       "      <th>4</th>\n",
       "      <td>5</td>\n",
       "      <td>180.8</td>\n",
       "      <td>10.8</td>\n",
       "      <td>58.4</td>\n",
       "      <td>12.9</td>\n",
       "    </tr>\n",
       "    <tr>\n",
       "      <th>...</th>\n",
       "      <td>...</td>\n",
       "      <td>...</td>\n",
       "      <td>...</td>\n",
       "      <td>...</td>\n",
       "      <td>...</td>\n",
       "    </tr>\n",
       "    <tr>\n",
       "      <th>195</th>\n",
       "      <td>196</td>\n",
       "      <td>38.2</td>\n",
       "      <td>3.7</td>\n",
       "      <td>13.8</td>\n",
       "      <td>7.6</td>\n",
       "    </tr>\n",
       "    <tr>\n",
       "      <th>196</th>\n",
       "      <td>197</td>\n",
       "      <td>94.2</td>\n",
       "      <td>4.9</td>\n",
       "      <td>8.1</td>\n",
       "      <td>9.7</td>\n",
       "    </tr>\n",
       "    <tr>\n",
       "      <th>197</th>\n",
       "      <td>198</td>\n",
       "      <td>177.0</td>\n",
       "      <td>9.3</td>\n",
       "      <td>6.4</td>\n",
       "      <td>12.8</td>\n",
       "    </tr>\n",
       "    <tr>\n",
       "      <th>198</th>\n",
       "      <td>199</td>\n",
       "      <td>283.6</td>\n",
       "      <td>42.0</td>\n",
       "      <td>66.2</td>\n",
       "      <td>25.5</td>\n",
       "    </tr>\n",
       "    <tr>\n",
       "      <th>199</th>\n",
       "      <td>200</td>\n",
       "      <td>232.1</td>\n",
       "      <td>8.6</td>\n",
       "      <td>8.7</td>\n",
       "      <td>13.4</td>\n",
       "    </tr>\n",
       "  </tbody>\n",
       "</table>\n",
       "<p>200 rows × 5 columns</p>\n",
       "</div>"
      ],
      "text/plain": [
       "     Unnamed: 0     TV  Radio  Newspaper  Sales\n",
       "0             1  230.1   37.8       69.2   22.1\n",
       "1             2   44.5   39.3       45.1   10.4\n",
       "2             3   17.2   45.9       69.3    9.3\n",
       "3             4  151.5   41.3       58.5   18.5\n",
       "4             5  180.8   10.8       58.4   12.9\n",
       "..          ...    ...    ...        ...    ...\n",
       "195         196   38.2    3.7       13.8    7.6\n",
       "196         197   94.2    4.9        8.1    9.7\n",
       "197         198  177.0    9.3        6.4   12.8\n",
       "198         199  283.6   42.0       66.2   25.5\n",
       "199         200  232.1    8.6        8.7   13.4\n",
       "\n",
       "[200 rows x 5 columns]"
      ]
     },
     "execution_count": 2,
     "metadata": {},
     "output_type": "execute_result"
    }
   ],
   "source": [
    "ad = pd.read_csv ('Advertising.csv')\n",
    "ad"
   ]
  },
  {
   "cell_type": "markdown",
   "id": "fede680c",
   "metadata": {},
   "source": [
    "### Pre-processing"
   ]
  },
  {
   "cell_type": "code",
   "execution_count": 3,
   "id": "e5f7e182",
   "metadata": {},
   "outputs": [],
   "source": [
    "# Dropping the unnecessary features\n",
    "\n",
    "ad = ad.drop(['Unnamed: 0'], axis = 1)"
   ]
  },
  {
   "cell_type": "code",
   "execution_count": 4,
   "id": "956103f2",
   "metadata": {},
   "outputs": [
    {
     "data": {
      "text/html": [
       "<div>\n",
       "<style scoped>\n",
       "    .dataframe tbody tr th:only-of-type {\n",
       "        vertical-align: middle;\n",
       "    }\n",
       "\n",
       "    .dataframe tbody tr th {\n",
       "        vertical-align: top;\n",
       "    }\n",
       "\n",
       "    .dataframe thead th {\n",
       "        text-align: right;\n",
       "    }\n",
       "</style>\n",
       "<table border=\"1\" class=\"dataframe\">\n",
       "  <thead>\n",
       "    <tr style=\"text-align: right;\">\n",
       "      <th></th>\n",
       "      <th>TV</th>\n",
       "      <th>Radio</th>\n",
       "      <th>Newspaper</th>\n",
       "      <th>Sales</th>\n",
       "    </tr>\n",
       "  </thead>\n",
       "  <tbody>\n",
       "    <tr>\n",
       "      <th>0</th>\n",
       "      <td>230.1</td>\n",
       "      <td>37.8</td>\n",
       "      <td>69.2</td>\n",
       "      <td>22.1</td>\n",
       "    </tr>\n",
       "    <tr>\n",
       "      <th>1</th>\n",
       "      <td>44.5</td>\n",
       "      <td>39.3</td>\n",
       "      <td>45.1</td>\n",
       "      <td>10.4</td>\n",
       "    </tr>\n",
       "    <tr>\n",
       "      <th>2</th>\n",
       "      <td>17.2</td>\n",
       "      <td>45.9</td>\n",
       "      <td>69.3</td>\n",
       "      <td>9.3</td>\n",
       "    </tr>\n",
       "    <tr>\n",
       "      <th>3</th>\n",
       "      <td>151.5</td>\n",
       "      <td>41.3</td>\n",
       "      <td>58.5</td>\n",
       "      <td>18.5</td>\n",
       "    </tr>\n",
       "    <tr>\n",
       "      <th>4</th>\n",
       "      <td>180.8</td>\n",
       "      <td>10.8</td>\n",
       "      <td>58.4</td>\n",
       "      <td>12.9</td>\n",
       "    </tr>\n",
       "    <tr>\n",
       "      <th>...</th>\n",
       "      <td>...</td>\n",
       "      <td>...</td>\n",
       "      <td>...</td>\n",
       "      <td>...</td>\n",
       "    </tr>\n",
       "    <tr>\n",
       "      <th>195</th>\n",
       "      <td>38.2</td>\n",
       "      <td>3.7</td>\n",
       "      <td>13.8</td>\n",
       "      <td>7.6</td>\n",
       "    </tr>\n",
       "    <tr>\n",
       "      <th>196</th>\n",
       "      <td>94.2</td>\n",
       "      <td>4.9</td>\n",
       "      <td>8.1</td>\n",
       "      <td>9.7</td>\n",
       "    </tr>\n",
       "    <tr>\n",
       "      <th>197</th>\n",
       "      <td>177.0</td>\n",
       "      <td>9.3</td>\n",
       "      <td>6.4</td>\n",
       "      <td>12.8</td>\n",
       "    </tr>\n",
       "    <tr>\n",
       "      <th>198</th>\n",
       "      <td>283.6</td>\n",
       "      <td>42.0</td>\n",
       "      <td>66.2</td>\n",
       "      <td>25.5</td>\n",
       "    </tr>\n",
       "    <tr>\n",
       "      <th>199</th>\n",
       "      <td>232.1</td>\n",
       "      <td>8.6</td>\n",
       "      <td>8.7</td>\n",
       "      <td>13.4</td>\n",
       "    </tr>\n",
       "  </tbody>\n",
       "</table>\n",
       "<p>200 rows × 4 columns</p>\n",
       "</div>"
      ],
      "text/plain": [
       "        TV  Radio  Newspaper  Sales\n",
       "0    230.1   37.8       69.2   22.1\n",
       "1     44.5   39.3       45.1   10.4\n",
       "2     17.2   45.9       69.3    9.3\n",
       "3    151.5   41.3       58.5   18.5\n",
       "4    180.8   10.8       58.4   12.9\n",
       "..     ...    ...        ...    ...\n",
       "195   38.2    3.7       13.8    7.6\n",
       "196   94.2    4.9        8.1    9.7\n",
       "197  177.0    9.3        6.4   12.8\n",
       "198  283.6   42.0       66.2   25.5\n",
       "199  232.1    8.6        8.7   13.4\n",
       "\n",
       "[200 rows x 4 columns]"
      ]
     },
     "execution_count": 4,
     "metadata": {},
     "output_type": "execute_result"
    }
   ],
   "source": [
    "ad"
   ]
  },
  {
   "cell_type": "code",
   "execution_count": 5,
   "id": "46a39446",
   "metadata": {},
   "outputs": [
    {
     "data": {
      "text/plain": [
       "0      22.1\n",
       "1      10.4\n",
       "2       9.3\n",
       "3      18.5\n",
       "4      12.9\n",
       "       ... \n",
       "195     7.6\n",
       "196     9.7\n",
       "197    12.8\n",
       "198    25.5\n",
       "199    13.4\n",
       "Name: Sales, Length: 200, dtype: float64"
      ]
     },
     "execution_count": 5,
     "metadata": {},
     "output_type": "execute_result"
    }
   ],
   "source": [
    "# Defining the target\n",
    "\n",
    "y = ad['Sales']\n",
    "y"
   ]
  },
  {
   "cell_type": "code",
   "execution_count": 6,
   "id": "e5965f75",
   "metadata": {},
   "outputs": [
    {
     "data": {
      "text/html": [
       "<div>\n",
       "<style scoped>\n",
       "    .dataframe tbody tr th:only-of-type {\n",
       "        vertical-align: middle;\n",
       "    }\n",
       "\n",
       "    .dataframe tbody tr th {\n",
       "        vertical-align: top;\n",
       "    }\n",
       "\n",
       "    .dataframe thead th {\n",
       "        text-align: right;\n",
       "    }\n",
       "</style>\n",
       "<table border=\"1\" class=\"dataframe\">\n",
       "  <thead>\n",
       "    <tr style=\"text-align: right;\">\n",
       "      <th></th>\n",
       "      <th>TV</th>\n",
       "      <th>Radio</th>\n",
       "      <th>Newspaper</th>\n",
       "    </tr>\n",
       "  </thead>\n",
       "  <tbody>\n",
       "    <tr>\n",
       "      <th>0</th>\n",
       "      <td>230.1</td>\n",
       "      <td>37.8</td>\n",
       "      <td>69.2</td>\n",
       "    </tr>\n",
       "    <tr>\n",
       "      <th>1</th>\n",
       "      <td>44.5</td>\n",
       "      <td>39.3</td>\n",
       "      <td>45.1</td>\n",
       "    </tr>\n",
       "    <tr>\n",
       "      <th>2</th>\n",
       "      <td>17.2</td>\n",
       "      <td>45.9</td>\n",
       "      <td>69.3</td>\n",
       "    </tr>\n",
       "    <tr>\n",
       "      <th>3</th>\n",
       "      <td>151.5</td>\n",
       "      <td>41.3</td>\n",
       "      <td>58.5</td>\n",
       "    </tr>\n",
       "    <tr>\n",
       "      <th>4</th>\n",
       "      <td>180.8</td>\n",
       "      <td>10.8</td>\n",
       "      <td>58.4</td>\n",
       "    </tr>\n",
       "    <tr>\n",
       "      <th>...</th>\n",
       "      <td>...</td>\n",
       "      <td>...</td>\n",
       "      <td>...</td>\n",
       "    </tr>\n",
       "    <tr>\n",
       "      <th>195</th>\n",
       "      <td>38.2</td>\n",
       "      <td>3.7</td>\n",
       "      <td>13.8</td>\n",
       "    </tr>\n",
       "    <tr>\n",
       "      <th>196</th>\n",
       "      <td>94.2</td>\n",
       "      <td>4.9</td>\n",
       "      <td>8.1</td>\n",
       "    </tr>\n",
       "    <tr>\n",
       "      <th>197</th>\n",
       "      <td>177.0</td>\n",
       "      <td>9.3</td>\n",
       "      <td>6.4</td>\n",
       "    </tr>\n",
       "    <tr>\n",
       "      <th>198</th>\n",
       "      <td>283.6</td>\n",
       "      <td>42.0</td>\n",
       "      <td>66.2</td>\n",
       "    </tr>\n",
       "    <tr>\n",
       "      <th>199</th>\n",
       "      <td>232.1</td>\n",
       "      <td>8.6</td>\n",
       "      <td>8.7</td>\n",
       "    </tr>\n",
       "  </tbody>\n",
       "</table>\n",
       "<p>200 rows × 3 columns</p>\n",
       "</div>"
      ],
      "text/plain": [
       "        TV  Radio  Newspaper\n",
       "0    230.1   37.8       69.2\n",
       "1     44.5   39.3       45.1\n",
       "2     17.2   45.9       69.3\n",
       "3    151.5   41.3       58.5\n",
       "4    180.8   10.8       58.4\n",
       "..     ...    ...        ...\n",
       "195   38.2    3.7       13.8\n",
       "196   94.2    4.9        8.1\n",
       "197  177.0    9.3        6.4\n",
       "198  283.6   42.0       66.2\n",
       "199  232.1    8.6        8.7\n",
       "\n",
       "[200 rows x 3 columns]"
      ]
     },
     "execution_count": 6,
     "metadata": {},
     "output_type": "execute_result"
    }
   ],
   "source": [
    "# Defining the feature set\n",
    "\n",
    "X = ad.drop(['Sales'], axis = 1)\n",
    "X"
   ]
  },
  {
   "cell_type": "markdown",
   "id": "d94b2054",
   "metadata": {},
   "source": [
    "### Standardization of features"
   ]
  },
  {
   "cell_type": "code",
   "execution_count": 7,
   "id": "80737115",
   "metadata": {},
   "outputs": [
    {
     "data": {
      "text/plain": [
       "array([[ 9.69852266e-01,  9.81522472e-01,  1.77894547e+00],\n",
       "       [-1.19737623e+00,  1.08280781e+00,  6.69578760e-01],\n",
       "       [-1.51615499e+00,  1.52846331e+00,  1.78354865e+00],\n",
       "       [ 5.20496822e-02,  1.21785493e+00,  1.28640506e+00],\n",
       "       [ 3.94182198e-01, -8.41613655e-01,  1.28180188e+00],\n",
       "       [-1.61540845e+00,  1.73103399e+00,  2.04592999e+00],\n",
       "       [-1.04557682e+00,  6.43904671e-01, -3.24708413e-01],\n",
       "       [-3.13436589e-01, -2.47406325e-01, -8.72486994e-01],\n",
       "       [-1.61657614e+00, -1.42906863e+00, -1.36042422e+00],\n",
       "       [ 6.16042873e-01, -1.39530685e+00, -4.30581584e-01],\n",
       "       [-9.45155670e-01, -1.17923146e+00, -2.92486143e-01],\n",
       "       [ 7.90028350e-01,  4.96973404e-02, -1.22232878e+00],\n",
       "       [-1.43908760e+00,  7.99208859e-01,  1.62704048e+00],\n",
       "       [-5.78501712e-01, -1.05768905e+00, -1.07502697e+00],\n",
       "       [ 6.66253447e-01,  6.50657027e-01,  7.11007392e-01],\n",
       "       [ 5.64664612e-01,  1.65000572e+00,  1.02862691e+00],\n",
       "       [-9.25304978e-01,  9.00494200e-01,  3.84117072e+00],\n",
       "       [ 1.56887609e+00,  1.10306488e+00,  1.16211917e+00],\n",
       "       [-9.08957349e-01, -1.86635121e-01, -5.64073843e-01],\n",
       "       [ 3.00679600e-03,  4.29449843e-02, -5.27248393e-01],\n",
       "       [ 8.33232798e-01,  2.99534513e-01,  1.05164281e+00],\n",
       "       [ 1.05509347e+00, -1.22649795e+00, -3.24708413e-01],\n",
       "       [-1.56286250e+00, -4.97243498e-01,  8.76721921e-01],\n",
       "       [ 9.48833887e-01, -4.29719938e-01, -2.00422516e-01],\n",
       "       [-9.89527805e-01, -7.20071247e-01, -5.64073843e-01],\n",
       "       [ 1.35285385e+00, -1.33453565e+00, -5.08835667e-01],\n",
       "       [-4.83714657e-02,  4.07572210e-01, -8.26455181e-01],\n",
       "       [ 1.08662104e+00, -4.43224650e-01, -3.52327501e-01],\n",
       "       [ 1.18820988e+00,  2.59020377e-01, -3.52327501e-01],\n",
       "       [-8.92609721e-01, -4.90491142e-01,  4.71641962e-01],\n",
       "       [ 1.70316018e+00,  3.40048650e-01,  5.82118314e-01],\n",
       "       [-3.98677796e-01, -3.95958157e-01,  3.70371972e-01],\n",
       "       [-5.82004775e-01, -1.46958277e+00, -2.55016247e-02],\n",
       "       [ 1.38438142e+00, -2.20396901e-01, -1.39264649e+00],\n",
       "       [-5.99520091e-01, -1.47633512e+00, -1.06582061e+00],\n",
       "       [ 1.67747105e+00, -1.29402151e+00, -1.01518562e+00],\n",
       "       [ 1.39956136e+00,  1.38666383e+00, -1.17629696e+00],\n",
       "       [-8.44734522e-01,  1.76479577e+00,  6.97197848e-01],\n",
       "       [-1.21372386e+00,  2.32010953e-01,  2.09260624e-01],\n",
       "       [ 9.45330823e-01,  9.74770116e-01,  6.65620024e-02],\n",
       "       [ 6.47570443e-01, -6.50927121e-02,  4.81492770e-02],\n",
       "       [ 3.49810063e-01,  6.84418807e-01,  3.74975153e-01],\n",
       "       [ 1.71133400e+00,  2.99534513e-01, -1.32359877e+00],\n",
       "       [ 6.98948705e-01, -1.00367020e+00, -1.91216154e-01],\n",
       "       [-1.42390765e+00,  1.64487393e-01,  5.86721496e-01],\n",
       "       [ 3.27623995e-01, -5.15880000e-02,  4.35460956e-02],\n",
       "       [-6.69581357e-01, -9.02384859e-01,  2.36879713e-01],\n",
       "       [ 1.08428567e+00,  1.23135965e+00, -5.54867481e-01],\n",
       "       [ 9.35989321e-01, -5.03995854e-01,  8.90531465e-01],\n",
       "       [-9.35814168e-01, -7.80842451e-01,  2.87514708e-01],\n",
       "       [ 6.16042873e-01, -1.36154507e+00,  1.86244718e-01],\n",
       "       [-5.44638766e-01, -9.22641928e-01, -1.24074150e+00],\n",
       "       [ 8.09879042e-01,  1.24486436e+00,  4.16403786e-01],\n",
       "       [ 4.15200577e-01,  1.54872038e+00,  1.29561142e+00],\n",
       "       [ 1.35051848e+00,  3.73810430e-01, -6.74550196e-01],\n",
       "       [ 6.05533683e-01,  1.76479577e+00,  1.35545278e+00],\n",
       "       [-1.63175608e+00,  3.26543937e-01,  4.99261050e-01],\n",
       "       [-1.26606546e-01, -2.74415749e-01, -6.42327927e-01],\n",
       "       [ 7.44488528e-01,  1.77830048e+00,  3.28943340e-01],\n",
       "       [ 7.43320840e-01,  4.21076922e-01, -9.78360166e-01],\n",
       "       [-1.09228433e+00, -1.43582099e+00, -4.21375221e-01],\n",
       "       [ 1.33417085e+00,  1.31238792e+00,  1.11148417e+00],\n",
       "       [ 1.07727954e+00, -5.24252922e-01, -1.49787521e-01],\n",
       "       [-5.17781948e-01,  4.27829278e-01, -1.01978880e+00],\n",
       "       [-1.86158622e-01,  1.31914027e+00, -7.61366196e-02],\n",
       "       [-9.11292725e-01, -9.42898996e-01, -1.36502740e+00],\n",
       "       [-1.34917564e+00,  9.02114765e-02, -1.30518604e+00],\n",
       "       [-9.04082253e-02, -5.91776482e-01, -9.36931533e-01],\n",
       "       [ 1.05509347e+00,  2.86029801e-01, -9.00106083e-01],\n",
       "       [ 8.14549794e-01,  1.39341619e+00, -1.54390703e-01],\n",
       "       [ 6.07869059e-01,  4.95352838e-01,  3.74975153e-01],\n",
       "       [-4.34876116e-01, -6.05281194e-01,  5.27524584e-02],\n",
       "       [-1.40405696e+00,  6.57409383e-01, -5.18042030e-01],\n",
       "       [-2.06009314e-01, -1.18598381e+00,  3.43397329e-02],\n",
       "       [ 7.74848409e-01,  9.02114765e-02, -8.03439274e-01],\n",
       "       [-1.51965805e+00,  1.37991148e+00,  2.70878810e+00],\n",
       "       [-1.39588315e+00, -1.46283041e+00, -4.53597491e-01],\n",
       "       [-3.09933525e-01,  3.53553362e-01, -7.52804279e-01],\n",
       "       [-1.65394214e+00,  4.48086346e-01, -9.73756984e-01],\n",
       "       [-3.62479475e-01, -1.05093669e+00, -3.43121138e-01],\n",
       "       [-8.24883830e-01,  2.32010953e-01, -3.79946589e-01],\n",
       "       [ 1.08311798e+00, -1.29402151e+00,  2.92117889e-01],\n",
       "       [-8.37728396e-01, -2.00139833e-01,  8.95779092e-02],\n",
       "       [-9.18298852e-01,  1.43393033e+00,  2.32276531e-01],\n",
       "       [ 7.76016097e-01,  1.33264499e+00,  1.49419267e-01],\n",
       "       [ 5.38975481e-01, -3.28434597e-01,  1.61783412e+00],\n",
       "       [-8.26051518e-01,  2.86029801e-01, -6.69947015e-01],\n",
       "       [-4.24366926e-01,  1.17058844e+00,  1.50275459e+00],\n",
       "       [-6.85928986e-01,  1.50982681e-01,  1.97227908e+00],\n",
       "       [-4.34876116e-01,  1.65675807e+00,  9.59579186e-01],\n",
       "       [-1.48792614e-01, -1.24000266e+00, -9.78360166e-01],\n",
       "       [-1.38303858e+00, -1.46958277e+00,  1.12593816e-01],\n",
       "       [ 8.25058983e-01,  6.91171163e-01,  1.30942097e+00],\n",
       "       [ 1.21273132e+00,  8.93741844e-01,  1.92164409e+00],\n",
       "       [-4.62900623e-01, -6.25538262e-01, -9.04709264e-01],\n",
       "       [ 1.89836839e-01,  5.62876398e-01,  1.02862691e+00],\n",
       "       [ 5.90353742e-01, -1.33453565e+00, -1.13486833e+00],\n",
       "       [ 4.42057396e-01, -1.52873340e-01, -3.93756133e-01],\n",
       "       [ 1.66579418e+00,  1.28537849e+00,  9.50372823e-01],\n",
       "       [-1.38283424e-01,  1.24486436e+00,  7.06404211e-01],\n",
       "       [ 8.79940308e-01, -1.28051680e+00,  8.85928284e-01],\n",
       "       [ 1.74402926e+00,  8.80237132e-01,  3.23815396e+00],\n",
       "       [ 1.55486384e+00, -8.88880147e-01, -4.21375221e-01],\n",
       "       [ 4.77088029e-01, -4.09462869e-01, -5.82486569e-01],\n",
       "       [ 1.06443498e+00,  7.45190011e-01, -1.16248742e+00],\n",
       "       [-1.06755854e-01,  1.56222509e+00,  1.30942097e+00],\n",
       "       [-1.42507534e+00, -8.28108943e-01, -3.93111688e-02],\n",
       "       [-6.61407543e-01, -1.55061104e+00, -3.38517957e-01],\n",
       "       [-1.56403019e+00, -1.54385868e+00, -2.28041604e-01],\n",
       "       [ 1.26527727e+00,  2.45515665e-01, -1.15328106e+00],\n",
       "       [ 9.19641692e-01, -1.01717491e+00,  1.19434143e+00],\n",
       "       [ 1.10530405e+00,  9.95027184e-01, -3.38517957e-01],\n",
       "       [ 3.34630122e-01, -5.31005278e-01, -1.29597968e+00],\n",
       "       [ 7.30476274e-01, -1.79882765e-01, -9.13915627e-01],\n",
       "       [-8.03865450e-01,  1.58923451e+00,  1.81641536e-01],\n",
       "       [-8.40063771e-01,  7.92456503e-01,  1.01942054e+00],\n",
       "       [-9.15759131e-02, -6.05281194e-01, -2.28041604e-01],\n",
       "       [-8.24883830e-01, -1.51684926e+00, -7.25185191e-01],\n",
       "       [-2.49213762e-01,  9.20751268e-01,  2.23926360e+00],\n",
       "       [-1.49046586e+00, -4.90491142e-01, -3.79946589e-01],\n",
       "       [-6.70544700e-02,  2.38763309e-01,  7.20213755e-01],\n",
       "       [-1.49747198e+00, -1.05606848e-01,  9.13547372e-01],\n",
       "       [ 8.98623313e-01, -1.40881156e+00, -6.88359740e-01],\n",
       "       [-2.79573643e-01,  7.65447079e-01, -8.35661544e-01],\n",
       "       [ 9.62846140e-01,  6.10142891e-01,  2.00910454e+00],\n",
       "       [-6.98773552e-01, -7.74090095e-01, -2.14232060e-01],\n",
       "       [-1.62591764e+00,  1.05579839e+00,  9.22753735e-01],\n",
       "       [-7.80511695e-01, -1.57086811e+00, -9.82963347e-01],\n",
       "       [ 8.55418865e-01,  1.73778635e+00, -1.25915423e+00],\n",
       "       [-1.02105537e+00, -7.60585383e-01,  5.77515133e-01],\n",
       "       [-1.70882347e+00,  1.10306488e+00, -1.00597925e+00],\n",
       "       [ 1.37971067e+00, -1.37504978e+00,  5.72911952e-01],\n",
       "       [-1.61891151e+00,  2.65772733e-01, -1.30978922e+00],\n",
       "       [ 8.49580427e-01,  6.91171163e-01,  6.69578760e-01],\n",
       "       [-1.28612050e+00,  1.03554132e+00,  1.61323094e+00],\n",
       "       [-1.15300409e+00,  1.60273923e+00, -1.01518562e+00],\n",
       "       [-1.41806922e+00,  1.06255074e+00, -9.78360166e-01],\n",
       "       [ 1.47896413e+00,  3.80562786e-01,  1.34164324e+00],\n",
       "       [-1.21489154e+00,  1.77992105e-01, -4.62803854e-01],\n",
       "       [ 4.42057396e-01,  1.39341619e+00, -1.32820195e+00],\n",
       "       [-8.59914463e-01, -4.22967582e-01, -8.12645637e-01],\n",
       "       [ 5.44813920e-01,  8.19465927e-01,  2.07354907e+00],\n",
       "       [ 8.57754241e-01,  6.70914095e-01,  3.38149702e-01],\n",
       "       [-4.95595880e-01, -1.18598381e+00,  1.77038355e-01],\n",
       "       [-5.93681653e-01, -5.71519414e-01,  3.84181516e-01],\n",
       "       [-7.87313476e-02, -1.44257334e+00, -9.92169710e-01],\n",
       "       [ 1.08662104e+00, -1.07794612e+00, -1.00597925e+00],\n",
       "       [ 1.12281936e+00,  1.73778635e+00,  6.32753309e-01],\n",
       "       [-1.27327593e+00,  1.15033137e+00, -8.58677450e-01],\n",
       "       [-1.19504085e+00,  1.71239749e-01, -4.58200672e-01],\n",
       "       [ 1.56070228e+00, -6.32290618e-01,  2.96721070e-01],\n",
       "       [-3.04095087e-01, -1.00367020e+00,  8.35293289e-01],\n",
       "       [ 5.90353742e-01,  2.43084817e-03, -7.52804279e-01],\n",
       "       [ 2.83251860e-01,  1.10981724e+00,  3.28943340e-01],\n",
       "       [ 4.75920341e-01, -1.46120984e-01, -9.69153803e-01],\n",
       "       [-1.66912209e+00, -7.87594807e-01, -1.14407469e+00],\n",
       "       [-6.20538471e-01,  1.36640677e+00,  9.18150553e-01],\n",
       "       [ 3.21989902e-02, -1.48308748e+00, -2.87882962e-01],\n",
       "       [-1.58037782e+00,  9.20751268e-01,  6.74181942e-01],\n",
       "       [-1.79152496e-01, -3.28434597e-01,  1.86244718e-01],\n",
       "       [ 2.97264113e-01, -3.48691665e-01,  6.72064478e-03],\n",
       "       [-7.16288868e-01,  8.46475352e-01,  8.62912377e-01],\n",
       "       [ 4.82926468e-01, -3.48691665e-01, -2.28041604e-01],\n",
       "       [ 1.92172214e-01,  9.13998912e-01, -1.06582061e+00],\n",
       "       [-3.48467222e-01, -5.78271770e-01, -1.15788424e+00],\n",
       "       [ 1.02123053e+00, -1.34128800e+00,  2.49704176e+00],\n",
       "       [-1.50798117e+00,  9.68017760e-01, -4.12168859e-01],\n",
       "       [ 6.97781017e-01, -1.21974559e+00, -5.13438849e-01],\n",
       "       [ 7.98202165e-01,  2.26879163e-02,  1.24497643e+00],\n",
       "       [ 1.60273904e+00, -8.55118367e-01, -1.11185242e+00],\n",
       "       [-1.13315340e+00, -7.87594807e-01, -5.59470662e-01],\n",
       "       [ 2.03849092e-01, -1.59625696e-01,  7.75451931e-01],\n",
       "       [-1.48813048e+00, -2.13644545e-01, -6.23915201e-01],\n",
       "       [ 2.49388915e-01, -1.09145083e+00, -8.17248818e-01],\n",
       "       [ 8.79940308e-01, -1.34128800e+00, -8.03439274e-01],\n",
       "       [ 1.51633014e+00,  1.73103399e+00,  5.17673775e-01],\n",
       "       [ 1.18353913e+00,  4.68343414e-01, -4.72010216e-01],\n",
       "       [ 2.70407294e-01, -1.04418434e+00,  2.13863806e-01],\n",
       "       [ 1.51399477e+00, -1.41556392e+00, -3.15502050e-01],\n",
       "       [ 2.16693657e-01, -8.95632503e-01, -5.96296113e-01],\n",
       "       [ 1.11601758e-01, -1.39530685e+00, -1.02439198e+00],\n",
       "       [ 8.34400486e-01, -1.20624088e+00, -1.45184340e-01],\n",
       "       [-1.06075676e+00, -1.18598381e+00, -3.93111688e-02],\n",
       "       [ 1.64127273e+00,  1.33264499e+00,  1.89862818e+00],\n",
       "       [ 1.24659427e+00, -1.32616272e-01, -2.55016247e-02],\n",
       "       [ 6.76762637e-01,  1.47444446e+00, -5.04232486e-01],\n",
       "       [-8.80728498e-02, -1.42906863e+00, -1.82009791e-01],\n",
       "       [ 5.14454038e-01,  3.67058074e-01, -5.68677025e-01],\n",
       "       [ 1.62258973e+00, -6.32290618e-01, -1.23613832e+00],\n",
       "       [-1.49863967e+00, -7.53833027e-01, -3.29311594e-01],\n",
       "       [-1.25576062e+00,  1.20435022e+00, -1.13947151e+00],\n",
       "       [-8.35393020e-01, -8.41613655e-01, -1.13026515e+00],\n",
       "       [-1.51615499e+00, -1.29402151e+00,  4.81492770e-02],\n",
       "       [ 2.30705910e-01,  1.26512143e+00, -1.24074150e+00],\n",
       "       [ 3.10313024e-02,  8.32970639e-01, -1.13026515e+00],\n",
       "       [-1.27094056e+00, -1.32103093e+00, -7.71217005e-01],\n",
       "       [-6.17035408e-01, -1.24000266e+00, -1.03359834e+00],\n",
       "       [ 3.49810063e-01, -9.42898996e-01, -1.11185242e+00],\n",
       "       [ 1.59456522e+00,  1.26512143e+00,  1.64085003e+00],\n",
       "       [ 9.93206022e-01, -9.90165488e-01, -1.00597925e+00]])"
      ]
     },
     "execution_count": 7,
     "metadata": {},
     "output_type": "execute_result"
    }
   ],
   "source": [
    "from sklearn.preprocessing import StandardScaler\n",
    "\n",
    "sc = StandardScaler()\n",
    "X_sc = sc.fit_transform(X)\n",
    "X_sc"
   ]
  },
  {
   "cell_type": "markdown",
   "id": "57e6ba29",
   "metadata": {},
   "source": [
    "### Spitting the data into train and test data"
   ]
  },
  {
   "cell_type": "code",
   "execution_count": 9,
   "id": "3937571b",
   "metadata": {},
   "outputs": [],
   "source": [
    "from sklearn.model_selection import train_test_split\n",
    "\n",
    "X_train, X_test, y_train, y_test = train_test_split (X_sc, y, test_size = 0.2, random_state = 10)"
   ]
  },
  {
   "cell_type": "code",
   "execution_count": 10,
   "id": "d3e01d70",
   "metadata": {},
   "outputs": [
    {
     "data": {
      "text/plain": [
       "((160, 3), (40, 3), (160,), (40,))"
      ]
     },
     "execution_count": 10,
     "metadata": {},
     "output_type": "execute_result"
    }
   ],
   "source": [
    "X_train.shape, X_test.shape, y_train.shape, y_test.shape"
   ]
  },
  {
   "cell_type": "markdown",
   "id": "ca1cb12a",
   "metadata": {},
   "source": [
    "### Building the model"
   ]
  },
  {
   "cell_type": "code",
   "execution_count": 11,
   "id": "69ebe6e9",
   "metadata": {},
   "outputs": [
    {
     "data": {
      "text/plain": [
       "LinearRegression()"
      ]
     },
     "execution_count": 11,
     "metadata": {},
     "output_type": "execute_result"
    }
   ],
   "source": [
    "from sklearn.linear_model import LinearRegression\n",
    "\n",
    "lr = LinearRegression()\n",
    "lr.fit(X_train, y_train)"
   ]
  },
  {
   "cell_type": "markdown",
   "id": "3575cc73",
   "metadata": {},
   "source": [
    "### Model Performance"
   ]
  },
  {
   "cell_type": "code",
   "execution_count": 19,
   "id": "aa7f82ce",
   "metadata": {},
   "outputs": [
    {
     "name": "stdout",
     "output_type": "stream",
     "text": [
      "The R2 score for the model of the train data is: 0.9209087553499528\n",
      "The R2 score for the model of the test data is: 0.8353672324670594\n",
      "The mean squared error for of model for the train data is: 1.8585966709492503\n",
      "The mean squared error for of model for the test data is: 6.700486756528872\n"
     ]
    }
   ],
   "source": [
    "from sklearn.metrics import r2_score, mean_squared_error\n",
    "\n",
    "r2_train = r2_score(y_train, lr.predict(X_train))\n",
    "r2_test = r2_score(y_test, lr.predict(X_test))\n",
    "mse_train = mean_squared_error(y_train, lr.predict(X_train))\n",
    "mse_test = mean_squared_error(y_test, lr.predict(X_test))\n",
    "\n",
    "print (\"The R2 score for the model of the train data is:\", r2_train)\n",
    "print (\"The R2 score for the model of the test data is:\", r2_test)\n",
    "print (\"The mean squared error for of model for the train data is:\", mse_train)\n",
    "print (\"The mean squared error for of model for the test data is:\", mse_test)"
   ]
  },
  {
   "cell_type": "markdown",
   "id": "6d51f638",
   "metadata": {},
   "source": [
    "**There is a difference in the performance for the train and test data. This shows a classic case of Overfitting**"
   ]
  },
  {
   "cell_type": "markdown",
   "id": "dd73297f",
   "metadata": {},
   "source": [
    "### Resolving Overfitting"
   ]
  },
  {
   "cell_type": "markdown",
   "id": "078ed330",
   "metadata": {},
   "source": [
    "**There are various methods to resolve Overfitting. We are going to use Cross Validation specifically k-fold cross validation**."
   ]
  },
  {
   "attachments": {
    "image.png": {
     "image/png": "[encoded data removed]"
    }
   },
   "cell_type": "markdown",
   "id": "df6840df",
   "metadata": {},
   "source": [
    "![image.png](attachment:image.png)"
   ]
  },
  {
   "attachments": {
    "image.png": {
     "image/png": "[encoded data removed]"
    }
   },
   "cell_type": "markdown",
   "id": "f374bdfe",
   "metadata": {},
   "source": [
    "**Cross Validation**\n",
    "\n",
    "![image.png](attachment:image.png)"
   ]
  },
  {
   "cell_type": "markdown",
   "id": "6dc4ee7a",
   "metadata": {},
   "source": [
    "### Linear Regression using k-fold cross validation"
   ]
  },
  {
   "cell_type": "code",
   "execution_count": 20,
   "id": "11da7178",
   "metadata": {},
   "outputs": [],
   "source": [
    "from sklearn.model_selection import cross_val_score, cross_val_predict \n",
    "\n",
    "# cross_val_score is the R2 val after perfroming cross validation."
   ]
  },
  {
   "cell_type": "code",
   "execution_count": 21,
   "id": "ca875dbe",
   "metadata": {},
   "outputs": [
    {
     "name": "stdout",
     "output_type": "stream",
     "text": [
      "The CV score for the model is: [0.92009437 0.90119987 0.90916145 0.92654738 0.92166077]\n"
     ]
    }
   ],
   "source": [
    "cr = LinearRegression()\n",
    "cv_score = cross_val_score(cr, X_train, y_train, cv = 5) # cv means Cross validation folds.\n",
    "print (\"The CV score for the model is:\", cv_score)"
   ]
  },
  {
   "cell_type": "code",
   "execution_count": 22,
   "id": "db3a1492",
   "metadata": {},
   "outputs": [
    {
     "name": "stdout",
     "output_type": "stream",
     "text": [
      "CV_Score mean: 0.9157327701186171\n"
     ]
    }
   ],
   "source": [
    "print (\"CV_Score mean:\", cv_score.mean())"
   ]
  },
  {
   "cell_type": "code",
   "execution_count": 23,
   "id": "394de936",
   "metadata": {},
   "outputs": [
    {
     "name": "stdout",
     "output_type": "stream",
     "text": [
      "The CV score for the model is: [0.90318963 0.9030216  0.93983595 0.91827199]\n",
      "CV_Score mean: 0.9160797935293802\n"
     ]
    }
   ],
   "source": [
    "# Taking the cross validation fold value as 4\n",
    "\n",
    "cr = LinearRegression()\n",
    "cv_score = cross_val_score(cr, X_train, y_train, cv = 4)\n",
    "print (\"The CV score for the model is:\", cv_score)\n",
    "print (\"CV_Score mean:\", cv_score.mean())"
   ]
  },
  {
   "cell_type": "code",
   "execution_count": 24,
   "id": "1c845513",
   "metadata": {},
   "outputs": [
    {
     "name": "stdout",
     "output_type": "stream",
     "text": [
      "The CV score for the model is: [0.90904216 0.92013056 0.9255209 ]\n",
      "CV_Score mean: 0.9182312082542176\n"
     ]
    }
   ],
   "source": [
    "# Taking the cross validation fold value as 3\n",
    "\n",
    "cr = LinearRegression()\n",
    "cv_score = cross_val_score(cr, X_train, y_train, cv = 3)\n",
    "print (\"The CV score for the model is:\", cv_score)\n",
    "print (\"CV_Score mean:\", cv_score.mean())"
   ]
  },
  {
   "cell_type": "code",
   "execution_count": 25,
   "id": "6de6f449",
   "metadata": {},
   "outputs": [
    {
     "name": "stdout",
     "output_type": "stream",
     "text": [
      "The CV score for the model is: [0.9080034  0.92991518]\n",
      "CV_Score mean: 0.918959291258261\n"
     ]
    }
   ],
   "source": [
    "# Taking the cross validation fold value as 2\n",
    "\n",
    "cr = LinearRegression()\n",
    "cv_score = cross_val_score(cr, X_train, y_train, cv = 2)\n",
    "print (\"The CV score for the model is:\", cv_score)\n",
    "print (\"CV_Score mean:\", cv_score.mean())"
   ]
  },
  {
   "cell_type": "code",
   "execution_count": 28,
   "id": "78735281",
   "metadata": {},
   "outputs": [
    {
     "name": "stdout",
     "output_type": "stream",
     "text": [
      "The CV score for the model is: [0.89460976 0.93950986 0.80333388 0.94414693 0.8591572  0.92865633\n",
      " 0.93605667 0.91725888 0.89502386 0.94632849] \n",
      "\n",
      "CV_Score mean: 0.9064081863045436\n"
     ]
    }
   ],
   "source": [
    "# Taking the cross validation fold value as 10\n",
    "\n",
    "cr = LinearRegression()\n",
    "cv_score = cross_val_score(cr, X_train, y_train, cv = 10)\n",
    "print (\"The CV score for the model is:\", cv_score, '\\n')\n",
    "print (\"CV_Score mean:\", cv_score.mean())"
   ]
  },
  {
   "cell_type": "markdown",
   "id": "c013f462",
   "metadata": {},
   "source": [
    "**k-fold validation**\n",
    "\n",
    "Using k = 1, the usual method of training.\n",
    "Using k = n, the training data is divided into n folds, where n = no of training data\n",
    "\n",
    "**k = n, is called \"Leave One Out Cross Validation\"**"
   ]
  },
  {
   "cell_type": "code",
   "execution_count": 29,
   "id": "a54da421",
   "metadata": {},
   "outputs": [
    {
     "data": {
      "text/plain": [
       "array([15.41213564, 14.43421929, 18.83663291, 24.58809707, 19.64939252,\n",
       "       12.66055558, 14.10891314, 21.51645283, 19.03175088, 13.94935813,\n",
       "       23.75354656,  7.05308143, 15.15526635, 18.51521267, 21.52889236,\n",
       "       10.72978834, 16.67817887,  6.67784033, 18.97567926, 18.11642469,\n",
       "       16.49538938,  7.95079283, 24.09971319, 14.28289837, 20.26314174,\n",
       "        5.58382918,  9.39157918, 10.17453671, 23.0165678 ,  5.77972516,\n",
       "       12.24877909, 21.47802842,  3.1479262 ,  3.04784189, 20.0771246 ,\n",
       "       18.71972223,  6.30002591, 20.78636738,  8.21024853, 15.65779458])"
      ]
     },
     "execution_count": 29,
     "metadata": {},
     "output_type": "execute_result"
    }
   ],
   "source": [
    "# k = 2 as the chosen value of CV\n",
    "\n",
    "y_pred = cross_val_predict(cr, X_test, y_test, cv = 2)\n",
    "y_pred"
   ]
  },
  {
   "cell_type": "markdown",
   "id": "5167344b",
   "metadata": {},
   "source": [
    "**Cross Validation is a general tool which can be used on any ML technique**"
   ]
  },
  {
   "cell_type": "markdown",
   "id": "5d361231",
   "metadata": {},
   "source": [
    "### Regularization - Linear Regression"
   ]
  },
  {
   "cell_type": "markdown",
   "id": "37f47ba4",
   "metadata": {},
   "source": [
    "**Regularization is a method to resolve Overfitting with respect to any model. We make use of the following 3 methods pertaining to Linear Regression for resolving Overfitting:**\n",
    "\n",
    "1. $ Lasso =  \\sum (y - y') + \\alpha * \\sum |b_{i}| $, **y is the actual value, y' is the predicted value**. **(y - y') is the error**\n",
    "2. $ Ridge = \\sum (y - y')^{2} + \\alpha * \\sum |b_{i}|^{2}$\n",
    "3. $ Elastic Net = \\sum (y - y')^{2} + C_{1} * \\sum |b_{i}| + C_{2} *\\sum |b_{i}|^{2}$"
   ]
  },
  {
   "cell_type": "markdown",
   "id": "6291938d",
   "metadata": {},
   "source": [
    "### Lasso"
   ]
  },
  {
   "cell_type": "code",
   "execution_count": 37,
   "id": "9df08d3f",
   "metadata": {},
   "outputs": [
    {
     "name": "stdout",
     "output_type": "stream",
     "text": [
      "R2 Score: Lasso - Train: 0.9199573974585257\n",
      "R2 Score: Lasso - Test: 0.8319851097741227\n",
      "\n",
      "\n",
      "MSE: Lasso - Train: 1.8809530090965558\n",
      "MSE: Lasso - Test: 6.838137776144052\n"
     ]
    }
   ],
   "source": [
    "from sklearn.linear_model import Lasso\n",
    "\n",
    "ls = Lasso(alpha = 0.1)\n",
    "ls.fit(X_train, y_train)\n",
    "r2_ls_train = r2_score(y_train, ls.predict(X_train))\n",
    "r2_ls_test = r2_score(y_test, ls.predict(X_test))\n",
    "\n",
    "print ('R2 Score: Lasso - Train:', r2_ls_train)\n",
    "print ('R2 Score: Lasso - Test:', r2_ls_test)\n",
    "\n",
    "mse_ls_train = mean_squared_error(y_train, ls.predict(X_train))\n",
    "mse_ls_test = mean_squared_error(y_test, ls.predict(X_test))\n",
    "\n",
    "print ('\\n')\n",
    "print ('MSE: Lasso - Train:', mse_ls_train)\n",
    "print ('MSE: Lasso - Test:', mse_ls_test)"
   ]
  },
  {
   "cell_type": "code",
   "execution_count": 49,
   "id": "4edfe9d9",
   "metadata": {},
   "outputs": [
    {
     "name": "stdout",
     "output_type": "stream",
     "text": [
      "R2 Score: Lasso - Train: 0.8992227796488054\n",
      "R2 Score: Lasso - Test: 0.804363662639572\n",
      "\n",
      "\n",
      "MSE: Lasso - Train: 2.3682040544564567\n",
      "MSE: Lasso - Test: 7.962319453307366\n"
     ]
    }
   ],
   "source": [
    "# Changing the value of alpha\n",
    "\n",
    "ls1 = Lasso(alpha = 0.5)\n",
    "ls1.fit(X_train, y_train)\n",
    "r2_ls1_train = r2_score(y_train, ls1.predict(X_train))\n",
    "r2_ls1_test = r2_score(y_test, ls1.predict(X_test))\n",
    "\n",
    "print ('R2 Score: Lasso - Train:', r2_ls1_train)\n",
    "print ('R2 Score: Lasso - Test:', r2_ls1_test)\n",
    "\n",
    "mse_ls1_train = mean_squared_error(y_train, ls1.predict(X_train))\n",
    "mse_ls1_test = mean_squared_error(y_test, ls1.predict(X_test))\n",
    "\n",
    "print ('\\n')\n",
    "print ('MSE: Lasso - Train:', mse_ls1_train)\n",
    "print ('MSE: Lasso - Test:', mse_ls1_test)"
   ]
  },
  {
   "cell_type": "markdown",
   "id": "b68ddb5e",
   "metadata": {},
   "source": [
    "### Ridge"
   ]
  },
  {
   "cell_type": "code",
   "execution_count": 38,
   "id": "53a7a501",
   "metadata": {},
   "outputs": [
    {
     "name": "stdout",
     "output_type": "stream",
     "text": [
      "R2 Score: Ridge - Train: 0.9209083458884119\n",
      "R2 Score: Ridge - Test: 0.8352944314323737\n",
      "\n",
      "\n",
      "MSE: Ridge - Train: 1.8586062930491445\n",
      "MSE: Ridge - Test: 6.70344972906516\n"
     ]
    }
   ],
   "source": [
    "from sklearn.linear_model import Ridge\n",
    "\n",
    "rd = Ridge(alpha = 0.1)\n",
    "rd.fit(X_train, y_train)\n",
    "r2_rd_train = r2_score(y_train, rd.predict(X_train))\n",
    "r2_rd_test = r2_score(y_test, rd.predict(X_test))\n",
    "\n",
    "print ('R2 Score: Ridge - Train:', r2_rd_train)\n",
    "print ('R2 Score: Ridge - Test:', r2_rd_test)\n",
    "\n",
    "mse_rd_train = mean_squared_error(y_train, rd.predict(X_train))\n",
    "mse_rd_test = mean_squared_error(y_test, rd.predict(X_test))\n",
    "\n",
    "print ('\\n')\n",
    "print ('MSE: Ridge - Train:', mse_rd_train)\n",
    "print ('MSE: Ridge - Test:', mse_rd_test)"
   ]
  },
  {
   "cell_type": "markdown",
   "id": "ae9bccb3",
   "metadata": {},
   "source": [
    "### Elastic Net"
   ]
  },
  {
   "cell_type": "code",
   "execution_count": 51,
   "id": "ffa6fdd5",
   "metadata": {},
   "outputs": [
    {
     "name": "stdout",
     "output_type": "stream",
     "text": [
      "R2 Score: Elastic Net - Train: 0.9171475343844093\n",
      "R2 Score: Elastic Net - Test: 0.8254019705243693\n",
      "\n",
      "\n",
      "MSE: Elastic Net - Train: 1.9469831010300342\n",
      "MSE: Elastic Net - Test: 7.106068869208696\n"
     ]
    }
   ],
   "source": [
    "from sklearn.linear_model import ElasticNet\n",
    "\n",
    "en = ElasticNet(alpha = 0.1)\n",
    "en.fit(X_train, y_train)\n",
    "r2_en_train = r2_score(y_train, en.predict(X_train))\n",
    "r2_en_test = r2_score(y_test, en.predict(X_test))\n",
    "\n",
    "print ('R2 Score: Elastic Net - Train:', r2_en_train)\n",
    "print ('R2 Score: Elastic Net - Test:', r2_en_test)\n",
    "\n",
    "mse_en_train = mean_squared_error(y_train, en.predict(X_train))\n",
    "mse_en_test = mean_squared_error(y_test, en.predict(X_test))\n",
    "\n",
    "print ('\\n')\n",
    "print ('MSE: Elastic Net - Train:', mse_en_train)\n",
    "print ('MSE: Elastic Net - Test:', mse_en_test)"
   ]
  }
 ],
 "metadata": {
  "kernelspec": {
   "display_name": "Python 3 (ipykernel)",
   "language": "python",
   "name": "python3"
  },
  "language_info": {
   "codemirror_mode": {
    "name": "ipython",
    "version": 3
   },
   "file_extension": ".py",
   "mimetype": "text/x-python",
   "name": "python",
   "nbconvert_exporter": "python",
   "pygments_lexer": "ipython3",
   "version": "3.9.12"
  }
 },
 "nbformat": 4,
 "nbformat_minor": 5
}
